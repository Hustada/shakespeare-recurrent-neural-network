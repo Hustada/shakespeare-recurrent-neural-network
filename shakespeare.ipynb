{
 "cells": [
  {
   "cell_type": "code",
   "execution_count": 2,
   "metadata": {},
   "outputs": [],
   "source": [
    "#used to request HTML page on web and return content\n",
    "from urllib.request import urlopen\n",
    "import requests\n",
    "#library that makes it easy to navigate an HTML document\n",
    "from bs4 import BeautifulSoup, Tag\n",
    "#designed to facilitate data manipulation and analysis\n",
    "import pandas as pd\n",
    "#library that provides regular expression matching operations. Regular expressions are ways to manipulate strings\n",
    "import re"
   ]
  },
  {
   "cell_type": "code",
   "execution_count": 3,
   "metadata": {},
   "outputs": [],
   "source": [
    "page = requests.get('http://shakespeare.mit.edu/allswell/allswell.1.1.html')\n",
    "\n",
    "#create beautiful soup object\n",
    "soup = BeautifulSoup(page.content, 'lxml')\n",
    "#print(soup)\n",
    "\n",
    "#get character names\n",
    "text = soup.find_all('a')\n",
    "\n",
    "for elements in text:\n",
    "    all_text = elements.text\n",
    "    file = open(\"mark.txt\", 'w')\n",
    "    file.write(all_text)\n",
    "    file.close()"
   ]
  },
  {
   "cell_type": "code",
   "execution_count": null,
   "metadata": {
    "collapsed": true
   },
   "outputs": [],
   "source": []
  }
 ],
 "metadata": {
  "kernelspec": {
   "display_name": "Python [default]",
   "language": "python",
   "name": "python3"
  },
  "language_info": {
   "codemirror_mode": {
    "name": "ipython",
    "version": 3
   },
   "file_extension": ".py",
   "mimetype": "text/x-python",
   "name": "python",
   "nbconvert_exporter": "python",
   "pygments_lexer": "ipython3",
   "version": "3.5.2"
  }
 },
 "nbformat": 4,
 "nbformat_minor": 2
}
