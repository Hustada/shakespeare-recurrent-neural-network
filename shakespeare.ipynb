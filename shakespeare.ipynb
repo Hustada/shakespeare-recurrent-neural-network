{
 "cells": [
  {
   "cell_type": "code",
   "execution_count": 1,
   "metadata": {},
   "outputs": [],
   "source": [
    "#used to request HTML page on web and return content\n",
    "from urllib.request import urlopen as uReq\n",
    "import requests\n",
    "#library that makes it easy to navigate an HTML document\n",
    "from bs4 import BeautifulSoup as soup\n",
    "#designed to facilitate data manipulation and analysis\n",
    "import pandas as pd\n",
    "#library that provides regular expression matching operations. Regular expressions are ways to manipulate strings\n",
    "import re"
   ]
  },
  {
   "cell_type": "code",
   "execution_count": 9,
   "metadata": {},
   "outputs": [
    {
     "name": "stdout",
     "output_type": "stream",
     "text": [
      "<http.client.HTTPResponse object at 0x11357ceb8>\n"
     ]
    }
   ],
   "source": [
    "#URl to scrape from\n",
    "page_urls = [\n",
    "            'http://shakespeare.mit.edu/allswell/allswell.1.1.html',\n",
    "            'http://shakespeare.mit.edu/allswell/allswell.1.2.html',\n",
    "            'http://shakespeare.mit.edu/allswell/allswell.1.3.html',\n",
    "            'http://shakespeare.mit.edu/allswell/allswell.2.1.html',\n",
    "            'http://shakespeare.mit.edu/allswell/allswell.2.2.html',\n",
    "            'http://shakespeare.mit.edu/allswell/allswell.2.3.html',\n",
    "            'http://shakespeare.mit.edu/allswell/allswell.2.4.html',\n",
    "            'http://shakespeare.mit.edu/allswell/allswell.2.5.html',\n",
    "            'http://shakespeare.mit.edu/allswell/allswell.3.1.html',\n",
    "            'http://shakespeare.mit.edu/allswell/allswell.3.2.html',\n",
    "            'http://shakespeare.mit.edu/allswell/allswell.3.3.html',\n",
    "            'http://shakespeare.mit.edu/allswell/allswell.3.4.html',\n",
    "            'http://shakespeare.mit.edu/allswell/allswell.3.5.html',\n",
    "            'http://shakespeare.mit.edu/allswell/allswell.3.6.html',\n",
    "            'http://shakespeare.mit.edu/allswell/allswell.3.7.html',\n",
    "            'http://shakespeare.mit.edu/allswell/allswell.4.1.html',\n",
    "            'http://shakespeare.mit.edu/allswell/allswell.4.2.html',\n",
    "            'http://shakespeare.mit.edu/allswell/allswell.4.3.html',\n",
    "            'http://shakespeare.mit.edu/allswell/allswell.4.4.html',\n",
    "            'http://shakespeare.mit.edu/allswell/allswell.4.5.html',\n",
    "            'http://shakespeare.mit.edu/allswell/allswell.5.1.html',\n",
    "            'http://shakespeare.mit.edu/allswell/allswell.5.2.html',\n",
    "            'http://shakespeare.mit.edu/allswell/allswell.5.3.html'\n",
    "]\n",
    "\n",
    "#for url in page_urls:\n",
    "    #uClient = uReq(url)\n",
    "    #print(uClient)\n",
    "\n",
    "#opens connection, downloads html page from url\n",
    "#uClient = uReq(page_url)\n",
    "print(uClient)\n",
    "\n",
    "#parse html into soup data structure to traverse html\n",
    "page_soup = soup(uClient.read(), 'html.parser')\n",
    "uClient.close()\n",
    "print(page_soup)\n",
    "\n",
    "\n",
    "quote_text = page_soup.findAll(\"body\")\n",
    "\n",
    "#remove all the tags\n",
    "for t in quote_text:\n",
    "    char_text = t.text\n",
    "    #print(char_text)\n",
    "    \n",
    "    #name the output file and write to local disk as txt file\n",
    "    out_filename = \"shakespeare.txt\"\n",
    "    f = open(out_filename, \"w\")\n",
    "    f.write(char_text)\n",
    "f.close()\n"
   ]
  },
  {
   "cell_type": "code",
   "execution_count": null,
   "metadata": {
    "collapsed": true
   },
   "outputs": [],
   "source": []
  }
 ],
 "metadata": {
  "kernelspec": {
   "display_name": "Python [default]",
   "language": "python",
   "name": "python3"
  },
  "language_info": {
   "codemirror_mode": {
    "name": "ipython",
    "version": 3
   },
   "file_extension": ".py",
   "mimetype": "text/x-python",
   "name": "python",
   "nbconvert_exporter": "python",
   "pygments_lexer": "ipython3",
   "version": "3.5.2"
  }
 },
 "nbformat": 4,
 "nbformat_minor": 2
}
